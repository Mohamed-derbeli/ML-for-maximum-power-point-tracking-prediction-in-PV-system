{
  "nbformat": 4,
  "nbformat_minor": 0,
  "metadata": {
    "colab": {
      "name": "Untitled11.ipynb",
      "provenance": [],
      "authorship_tag": "ABX9TyPODxaANuAo2xTVx24/uVfc",
      "include_colab_link": true
    },
    "kernelspec": {
      "name": "python3",
      "display_name": "Python 3"
    },
    "language_info": {
      "name": "python"
    }
  },
  "cells": [
    {
      "cell_type": "markdown",
      "metadata": {
        "id": "view-in-github",
        "colab_type": "text"
      },
      "source": [
        "<a href=\"https://colab.research.google.com/github/Mohamed-derbeli/ML-for-maximum-power-point-tracking-prediction-in-PV-system/blob/main/ML_for_MPPT_prediction_in_PV_system.ipynb\" target=\"_parent\"><img src=\"https://colab.research.google.com/assets/colab-badge.svg\" alt=\"Open In Colab\"/></a>"
      ]
    },
    {
      "cell_type": "code",
      "execution_count": 1,
      "metadata": {
        "id": "UFHSediLIZGk"
      },
      "outputs": [],
      "source": [
        "import tensorflow as tf\n",
        "import numpy as np\n",
        "import pandas as pd\n",
        "import codecs\n",
        "import io\n",
        "import csv\n",
        "import matplotlib.pyplot as plt\n",
        "from tensorflow import keras\n",
        "from tensorflow.keras import models, layers, optimizers\n",
        "from google.colab import files\n",
        "from sklearn.utils import shuffle\n",
        "from sklearn.model_selection import train_test_split\n",
        "import urllib.request"
      ]
    },
    {
      "cell_type": "code",
      "source": [
        "url = 'https://github.com/Mohamed-derbeli/ML-for-maximum-power-point-tracking-prediction-in-PV-system/blob/main/PV_data.xlsx?raw=true'\n",
        "df = pd.read_excel(url, sheet_name=None)\n",
        "\n",
        "\n",
        "# df= pd.DataFrame.from_dict(df, orient='columns', dtype=None, columns=None)\n",
        "# df=pd.DataFrame.from_dict(df)\n",
        "print(df)\n",
        "type(df)\n",
        "\n",
        "# # url = \"https://github.com/Mohamed-derbeli/ML-for-maximum-power-point-tracking-prediction-in-PV-system/blob/main/PV_data.xlsx\"\n",
        "\n",
        "\n",
        "\n"
      ],
      "metadata": {
        "colab": {
          "base_uri": "https://localhost:8080/"
        },
        "id": "Si0rnUh4Idiu",
        "outputId": "98447517-a576-4076-b8d9-52c2aa693fe1"
      },
      "execution_count": 102,
      "outputs": [
        {
          "output_type": "stream",
          "name": "stdout",
          "text": [
            "{'sheet1':          Pmax     Vmax      Imax         G        T\n",
            "0    146.2333  38.3969  3.808466  426.2695  17.0813\n",
            "1    149.2753  35.1044  4.252324  437.4390  18.0334\n",
            "2    150.0502  38.0550  3.942983  446.4111  19.7314\n",
            "3    154.4916  36.5494  4.226926  452.4536  20.3027\n",
            "4    156.3199  36.4111  4.293194  459.2285  21.3342\n",
            "..        ...      ...       ...       ...      ...\n",
            "791   49.0201  39.2643  1.248465  177.7954  24.0002\n",
            "792   50.4602  38.8487  1.298890  178.1616  23.1750\n",
            "793   52.2693  39.0469  1.338629  179.8096  22.4927\n",
            "794   57.8899  38.9098  1.487797  193.3594  22.4927\n",
            "795   49.0866  38.7954  1.265269  163.1470  22.0007\n",
            "\n",
            "[796 rows x 5 columns]}\n"
          ]
        },
        {
          "output_type": "execute_result",
          "data": {
            "text/plain": [
              "dict"
            ]
          },
          "metadata": {},
          "execution_count": 102
        }
      ]
    },
    {
      "cell_type": "code",
      "source": [
        ""
      ],
      "metadata": {
        "id": "QX3ojdDDIdMp"
      },
      "execution_count": null,
      "outputs": []
    }
  ]
}